{
 "cells": [
  {
   "cell_type": "code",
   "execution_count": 1,
   "metadata": {},
   "outputs": [],
   "source": [
    "import numpy as np\n",
    "import matplotlib.pyplot as plt\n",
    "import pandas as pd"
   ]
  },
  {
   "cell_type": "code",
   "execution_count": 2,
   "metadata": {},
   "outputs": [],
   "source": [
    "df_X = pd.read_csv('./data/logistic_x.txt', sep = \"\\ +\", names = [\"x1\", \"x2\"], header = None, engine = 'python')"
   ]
  },
  {
   "cell_type": "code",
   "execution_count": 3,
   "metadata": {},
   "outputs": [
    {
     "data": {
      "text/html": [
       "<div>\n",
       "<style scoped>\n",
       "    .dataframe tbody tr th:only-of-type {\n",
       "        vertical-align: middle;\n",
       "    }\n",
       "\n",
       "    .dataframe tbody tr th {\n",
       "        vertical-align: top;\n",
       "    }\n",
       "\n",
       "    .dataframe thead th {\n",
       "        text-align: right;\n",
       "    }\n",
       "</style>\n",
       "<table border=\"1\" class=\"dataframe\">\n",
       "  <thead>\n",
       "    <tr style=\"text-align: right;\">\n",
       "      <th></th>\n",
       "      <th>x1</th>\n",
       "      <th>x2</th>\n",
       "    </tr>\n",
       "  </thead>\n",
       "  <tbody>\n",
       "    <tr>\n",
       "      <th>0</th>\n",
       "      <td>1.343250</td>\n",
       "      <td>-1.331148</td>\n",
       "    </tr>\n",
       "    <tr>\n",
       "      <th>1</th>\n",
       "      <td>1.820553</td>\n",
       "      <td>-0.634668</td>\n",
       "    </tr>\n",
       "    <tr>\n",
       "      <th>2</th>\n",
       "      <td>0.986321</td>\n",
       "      <td>-1.888576</td>\n",
       "    </tr>\n",
       "    <tr>\n",
       "      <th>3</th>\n",
       "      <td>1.944373</td>\n",
       "      <td>-1.635452</td>\n",
       "    </tr>\n",
       "    <tr>\n",
       "      <th>4</th>\n",
       "      <td>0.976734</td>\n",
       "      <td>-1.353315</td>\n",
       "    </tr>\n",
       "  </tbody>\n",
       "</table>\n",
       "</div>"
      ],
      "text/plain": [
       "         x1        x2\n",
       "0  1.343250 -1.331148\n",
       "1  1.820553 -0.634668\n",
       "2  0.986321 -1.888576\n",
       "3  1.944373 -1.635452\n",
       "4  0.976734 -1.353315"
      ]
     },
     "execution_count": 3,
     "metadata": {},
     "output_type": "execute_result"
    }
   ],
   "source": [
    "df_X.head()"
   ]
  },
  {
   "cell_type": "code",
   "execution_count": 4,
   "metadata": {},
   "outputs": [],
   "source": [
    "df_y = pd.read_csv('./data/logistic_y.txt', sep = \"\\ +\", names = [\"y\"], header = None, engine = 'python')"
   ]
  },
  {
   "cell_type": "code",
   "execution_count": 5,
   "metadata": {},
   "outputs": [
    {
     "data": {
      "text/html": [
       "<div>\n",
       "<style scoped>\n",
       "    .dataframe tbody tr th:only-of-type {\n",
       "        vertical-align: middle;\n",
       "    }\n",
       "\n",
       "    .dataframe tbody tr th {\n",
       "        vertical-align: top;\n",
       "    }\n",
       "\n",
       "    .dataframe thead th {\n",
       "        text-align: right;\n",
       "    }\n",
       "</style>\n",
       "<table border=\"1\" class=\"dataframe\">\n",
       "  <thead>\n",
       "    <tr style=\"text-align: right;\">\n",
       "      <th></th>\n",
       "      <th>y</th>\n",
       "    </tr>\n",
       "  </thead>\n",
       "  <tbody>\n",
       "    <tr>\n",
       "      <th>0</th>\n",
       "      <td>-1.0</td>\n",
       "    </tr>\n",
       "    <tr>\n",
       "      <th>1</th>\n",
       "      <td>-1.0</td>\n",
       "    </tr>\n",
       "    <tr>\n",
       "      <th>2</th>\n",
       "      <td>-1.0</td>\n",
       "    </tr>\n",
       "    <tr>\n",
       "      <th>3</th>\n",
       "      <td>-1.0</td>\n",
       "    </tr>\n",
       "    <tr>\n",
       "      <th>4</th>\n",
       "      <td>-1.0</td>\n",
       "    </tr>\n",
       "  </tbody>\n",
       "</table>\n",
       "</div>"
      ],
      "text/plain": [
       "     y\n",
       "0 -1.0\n",
       "1 -1.0\n",
       "2 -1.0\n",
       "3 -1.0\n",
       "4 -1.0"
      ]
     },
     "execution_count": 5,
     "metadata": {},
     "output_type": "execute_result"
    }
   ],
   "source": [
    "df_y.head()"
   ]
  },
  {
   "cell_type": "code",
   "execution_count": 27,
   "metadata": {},
   "outputs": [
    {
     "data": {
      "text/plain": [
       "(99, 3)"
      ]
     },
     "execution_count": 27,
     "metadata": {},
     "output_type": "execute_result"
    }
   ],
   "source": [
    "x = np.hstack([np.ones((df_X.shape[0], 1)), df_X[[\"x1\", \"x2\"]].values])\n",
    "x.shape"
   ]
  },
  {
   "cell_type": "code",
   "execution_count": 29,
   "metadata": {},
   "outputs": [
    {
     "data": {
      "text/plain": [
       "(99,)"
      ]
     },
     "execution_count": 29,
     "metadata": {},
     "output_type": "execute_result"
    }
   ],
   "source": [
    "y = df_y[\"y\"].values\n",
    "y.shape"
   ]
  },
  {
   "cell_type": "markdown",
   "metadata": {},
   "source": [
    "## Plotting data"
   ]
  },
  {
   "cell_type": "code",
   "execution_count": 30,
   "metadata": {},
   "outputs": [],
   "source": [
    "pos = df_y.index[df_y[\"y\"] == 1].values\n",
    "neg = df_y.index[df_y[\"y\"] == -1].values\n"
   ]
  },
  {
   "cell_type": "code",
   "execution_count": 31,
   "metadata": {},
   "outputs": [
    {
     "data": {
      "text/plain": [
       "array([[ 1.        ,  5.1708997 ,  1.2103667 ],\n",
       "       [ 1.        ,  4.8795188 ,  1.6081848 ],\n",
       "       [ 1.        ,  4.664987  ,  1.0695532 ],\n",
       "       [ 1.        ,  4.4934321 ,  1.2351592 ],\n",
       "       [ 1.        ,  4.1512967 ,  0.8672126 ],\n",
       "       [ 1.        ,  3.717708  ,  1.15172   ],\n",
       "       [ 1.        ,  3.6224477 ,  1.3106769 ],\n",
       "       [ 1.        ,  3.0606943 ,  1.4857163 ],\n",
       "       [ 1.        ,  7.0718465 , -0.34961651],\n",
       "       [ 1.        ,  6.0391832 , -0.24756832],\n",
       "       [ 1.        ,  6.674748  , -0.12484766],\n",
       "       [ 1.        ,  6.8461291 ,  0.25977167],\n",
       "       [ 1.        ,  6.4270724 , -0.14713863],\n",
       "       [ 1.        ,  6.8456065 ,  1.4754967 ],\n",
       "       [ 1.        ,  7.7054006 ,  1.6045555 ],\n",
       "       [ 1.        ,  6.2870658 ,  2.4156427 ],\n",
       "       [ 1.        ,  6.9810956 ,  1.2599865 ],\n",
       "       [ 1.        ,  7.0990172 ,  2.2155151 ],\n",
       "       [ 1.        ,  5.5275479 ,  0.29968421],\n",
       "       [ 1.        ,  5.8303489 , -0.21974408],\n",
       "       [ 1.        ,  6.3594527 ,  0.23944217],\n",
       "       [ 1.        ,  6.1004524 , -0.04095741],\n",
       "       [ 1.        ,  5.6237412 ,  0.37135914],\n",
       "       [ 1.        ,  5.8836969 ,  2.7768186 ],\n",
       "       [ 1.        ,  5.5781611 ,  3.0682889 ],\n",
       "       [ 1.        ,  7.0050662 , -0.25781727],\n",
       "       [ 1.        ,  4.4538114 ,  0.83941831],\n",
       "       [ 1.        ,  5.6495924 ,  1.3053929 ],\n",
       "       [ 1.        ,  4.6337489 ,  1.9467546 ],\n",
       "       [ 1.        ,  3.6986847 ,  2.2594084 ],\n",
       "       [ 1.        ,  4.1193005 ,  2.547451  ],\n",
       "       [ 1.        ,  4.7665558 ,  2.7531209 ],\n",
       "       [ 1.        ,  3.0812098 ,  2.7985255 ],\n",
       "       [ 1.        ,  4.0730994 , -3.0292398 ],\n",
       "       [ 1.        ,  3.4883041 , -1.8888889 ],\n",
       "       [ 1.        ,  0.76900585,  1.2105263 ],\n",
       "       [ 1.        ,  1.5       ,  3.8128655 ],\n",
       "       [ 1.        ,  5.7982456 , -2.0935673 ],\n",
       "       [ 1.        ,  6.8114529 , -0.8345673 ],\n",
       "       [ 1.        ,  7.1106096 , -1.0201158 ],\n",
       "       [ 1.        ,  7.494152  , -1.7426901 ],\n",
       "       [ 1.        ,  3.1374269 ,  0.42105263],\n",
       "       [ 1.        ,  1.6754386 ,  0.50877193],\n",
       "       [ 1.        ,  2.494152  , -0.86549708],\n",
       "       [ 1.        ,  4.7748538 ,  0.09941521],\n",
       "       [ 1.        ,  5.8274854 , -0.69005848],\n",
       "       [ 1.        ,  2.2894737 ,  1.9707602 ],\n",
       "       [ 1.        ,  2.494152  ,  1.4152047 ],\n",
       "       [ 1.        ,  2.0847953 ,  1.3567251 ]])"
      ]
     },
     "execution_count": 31,
     "metadata": {},
     "output_type": "execute_result"
    }
   ],
   "source": [
    "pos_x = x[pos]\n",
    "neg_x = x[neg]\n",
    "pos_x"
   ]
  },
  {
   "cell_type": "code",
   "execution_count": 32,
   "metadata": {},
   "outputs": [
    {
     "data": {
      "image/png": "[encoded data removed]",
      "text/plain": [
       "<Figure size 432x288 with 1 Axes>"
      ]
     },
     "metadata": {
      "needs_background": "light"
     },
     "output_type": "display_data"
    }
   ],
   "source": [
    "fig = plt.figure()\n",
    "ax1 = fig.add_subplot(111)\n",
    "\n",
    "ax1.scatter(pos_x[:,1], pos_x[:,2], s=10, c='b', marker=\"s\", label='positive')\n",
    "ax1.scatter(neg_x[:,1], neg_x[:,2], s=10, c='r', marker=\"o\", label='negative')\n",
    "plt.legend(loc='upper left');\n",
    "plt.show()"
   ]
  },
  {
   "cell_type": "markdown",
   "metadata": {},
   "source": [
    "# Main model "
   ]
  },
  {
   "cell_type": "code",
   "execution_count": 38,
   "metadata": {},
   "outputs": [
    {
     "name": "stdout",
     "output_type": "stream",
     "text": [
      "converged after 7 iterations\n"
     ]
    }
   ],
   "source": [
    "collected_thetas = [] # collect for demonstration purpose\n",
    "theta = np.zeros(x.shape[1])\n",
    "\n",
    "tol = 1e9\n",
    "n_iters = 0\n",
    "while tol > 1e-6:\n",
    "    z = y * x.dot(theta)\n",
    "    g = 1 / (1 + np.exp(-z))\n",
    "    grad = np.mean((g - 1) * y * x.T, axis=1)\n",
    "    \n",
    "    # Refactor, more efficient way of calculating hessian\n",
    "    hessian = np.zeros((x.shape[1], x.shape[1]))\n",
    "    for i in range(hessian.shape[0]):\n",
    "        for j in range(hessian.shape[0]):\n",
    "            if i <= j:\n",
    "                hessian[i][j] = np.mean(g * (1 - g) * x[:,i] * x[:,j])\n",
    "                if i != j:\n",
    "                    hessian[j][i] = hessian[i][j]\n",
    "            \n",
    "    delta = np.linalg.inv(hessian).dot(grad)\n",
    "    old_theta = theta.copy()\n",
    "    theta -= delta\n",
    "    collected_thetas.append(theta.copy())\n",
    "    n_iters += 1\n",
    "    tol = np.sum(np.abs(theta - old_theta))\n",
    "print('converged after {0} iterations'.format(n_iters))"
   ]
  },
  {
   "cell_type": "code",
   "execution_count": 40,
   "metadata": {},
   "outputs": [
    {
     "data": {
      "text/plain": [
       "<matplotlib.legend.Legend at 0x2921bee1ba8>"
      ]
     },
     "execution_count": 40,
     "metadata": {},
     "output_type": "execute_result"
    },
    {
     "data": {
      "image/png": "[encoded data removed]",
      "text/plain": [
       "<Figure size 432x288 with 1 Axes>"
      ]
     },
     "metadata": {
      "needs_background": "light"
     },
     "output_type": "display_data"
    }
   ],
   "source": [
    "fig = plt.figure()\n",
    "ax1 = fig.add_subplot(111)\n",
    "\n",
    "ax1.scatter(pos_x[:,1], pos_x[:,2], s=10, c='b', marker=\"s\", label='positive')\n",
    "ax1.scatter(neg_x[:,1], neg_x[:,2], s=10, c='r', marker=\"o\", label='negative')\n",
    "\n",
    "# df_X.query('label == -1').plot.scatter(x=0, y=1, ax=ax, color='blue')\n",
    "# df_X.query('label == 1').plot.scatter(x=0, y=1, ax=ax, color='red')\n",
    "\n",
    "_xs = np.array([np.min(x[:,1]), np.max(x[:,1])])\n",
    "for k, theta in enumerate(collected_thetas):\n",
    "    _ys = (theta[0] + theta[1] * _xs) / (- theta[2])\n",
    "    plt.plot(_xs, _ys, label='iter {0}'.format(k + 1), lw=0.5)\n",
    "plt.legend(bbox_to_anchor=(1.04,1), loc=\"upper left\")"
   ]
  },
  {
   "cell_type": "code",
   "execution_count": 45,
   "metadata": {},
   "outputs": [
    {
     "data": {
      "text/plain": [
       "[array([-1.50983811,  0.43509696,  0.62161752]),\n",
       " array([-2.21834632,  0.64372727,  0.95944716]),\n",
       " array([-2.55431051,  0.74137714,  1.13493588]),\n",
       " array([-2.61847133,  0.75979248,  1.1707512 ]),\n",
       " array([-2.62050954,  0.76037096,  1.17194549]),\n",
       " array([-2.6205116 ,  0.76037154,  1.17194674]),\n",
       " array([-2.6205116 ,  0.76037154,  1.17194674])]"
      ]
     },
     "execution_count": 45,
     "metadata": {},
     "output_type": "execute_result"
    }
   ],
   "source": [
    "collected_thetas"
   ]
  },
  {
   "cell_type": "code",
   "execution_count": null,
   "metadata": {},
   "outputs": [],
   "source": []
  }
 ],
 "metadata": {
  "kernelspec": {
   "display_name": "Python 3",
   "language": "python",
   "name": "python3"
  },
  "language_info": {
   "codemirror_mode": {
    "name": "ipython",
    "version": 3
   },
   "file_extension": ".py",
   "mimetype": "text/x-python",
   "name": "python",
   "nbconvert_exporter": "python",
   "pygments_lexer": "ipython3",
   "version": "3.7.3"
  }
 },
 "nbformat": 4,
 "nbformat_minor": 2
}
